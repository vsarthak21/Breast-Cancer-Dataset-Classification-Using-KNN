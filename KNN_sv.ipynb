{
 "cells": [
  {
   "cell_type": "code",
   "execution_count": 14,
   "metadata": {},
   "outputs": [],
   "source": [
    "import numpy as np\n",
    "from sklearn import datasets\n",
    "from sklearn.neighbors import KNeighborsClassifier\n",
    "from sklearn.model_selection import train_test_split\n",
    "from sklearn.model_selection import cross_val_score"
   ]
  },
  {
   "cell_type": "code",
   "execution_count": 63,
   "metadata": {},
   "outputs": [],
   "source": [
    "dataset = datasets.load_breast_cancer()\n",
    "Xtrain, Xtest, Ytrain, Ytest = train_test_split(dataset.data, dataset.target, test_size = 0.2, random_state = 0)"
   ]
  },
  {
   "cell_type": "code",
   "execution_count": 96,
   "metadata": {},
   "outputs": [
    {
     "data": {
      "text/plain": [
       "KNeighborsClassifier(algorithm='auto', leaf_size=30, metric='minkowski',\n",
       "           metric_params=None, n_jobs=1, n_neighbors=7, p=2,\n",
       "           weights='uniform')"
      ]
     },
     "execution_count": 96,
     "metadata": {},
     "output_type": "execute_result"
    }
   ],
   "source": [
    "clf = KNeighborsClassifier(n_neighbors=7)\n",
    "clf.fit(Xtrain,Ytrain)"
   ]
  },
  {
   "cell_type": "code",
   "execution_count": 97,
   "metadata": {},
   "outputs": [
    {
     "data": {
      "text/plain": [
       "0.94736842105263153"
      ]
     },
     "execution_count": 97,
     "metadata": {},
     "output_type": "execute_result"
    }
   ],
   "source": [
    "clf.score(Xtest,Ytest)"
   ]
  },
  {
   "cell_type": "code",
   "execution_count": 98,
   "metadata": {},
   "outputs": [
    {
     "data": {
      "text/plain": [
       "0.93187231323341468"
      ]
     },
     "execution_count": 98,
     "metadata": {},
     "output_type": "execute_result"
    }
   ],
   "source": [
    "score = cross_val_score(clf, Xtrain,Ytrain)\n",
    "score.mean()"
   ]
  },
  {
   "cell_type": "code",
   "execution_count": 67,
   "metadata": {},
   "outputs": [
    {
     "name": "stdout",
     "output_type": "stream",
     "text": [
      "1 0.927486348321\n",
      "3 0.929664807715\n",
      "5 0.925278842802\n",
      "7 0.931872313233\n",
      "9 0.931886836296\n",
      "11 0.925278842802\n",
      "13 0.923085860346\n",
      "15 0.912062855815\n",
      "17 0.912062855815\n",
      "19 0.909855350296\n",
      "21 0.914270361334\n",
      "23 0.916477866853\n",
      "25 0.909884396422\n",
      "27 0.91209190194\n",
      "29 0.916477866853\n"
     ]
    },
    {
     "data": {
      "image/png": "[encoded data removed]",
      "text/plain": [
       "<matplotlib.figure.Figure at 0xfb093f0>"
      ]
     },
     "metadata": {},
     "output_type": "display_data"
    }
   ],
   "source": [
    "xaxis = []\n",
    "yaxis = []\n",
    "for i in range(1,30,2):\n",
    "    clf = KNeighborsClassifier(n_neighbors= i)\n",
    "    score = cross_val_score(clf, Xtrain,Ytrain)\n",
    "    print(i, score.mean())\n",
    "    xaxis.append(i)\n",
    "    yaxis.append(score.mean())\n",
    "    \n",
    "import matplotlib.pyplot as plt\n",
    "plt.plot(xaxis,yaxis)\n",
    "plt.show()"
   ]
  },
  {
   "cell_type": "markdown",
   "metadata": {},
   "source": [
    "## Scratch Implementation Of KNN"
   ]
  },
  {
   "cell_type": "code",
   "execution_count": 94,
   "metadata": {},
   "outputs": [],
   "source": [
    "from sklearn.metrics import accuracy_score\n",
    "from collections import Counter\n",
    "\n",
    "def predict1(xtrain,ytrain,xtest,k):\n",
    "    distances = []\n",
    "    for i in range(len(xtrain)):\n",
    "        distance = ((xtrain[i,:] - xtest)**2).sum()\n",
    "        distances.append([distance,i])\n",
    "    distances = sorted(distances)\n",
    "    targets = []\n",
    "    for i in range(k):\n",
    "        index = distances[i][1]\n",
    "        targets.append(ytrain[index])\n",
    "    return Counter(targets).most_common(1)[0][0]\n",
    "\n",
    "def predict(xtrain,ytrain,xtest_data,k):\n",
    "    predictions = []\n",
    "    for xtest in xtest_data:\n",
    "        predictions.append(predict1(xtrain,ytrain,xtest,k))\n",
    "    return predictions\n",
    "    \n",
    "    "
   ]
  },
  {
   "cell_type": "code",
   "execution_count": 95,
   "metadata": {},
   "outputs": [
    {
     "data": {
      "text/plain": [
       "0.94736842105263153"
      ]
     },
     "execution_count": 95,
     "metadata": {},
     "output_type": "execute_result"
    }
   ],
   "source": [
    "y_pred = predict(Xtrain,Ytrain,Xtest,7)\n",
    "accuracy_score(Ytest,y_pred)"
   ]
  },
  {
   "cell_type": "code",
   "execution_count": null,
   "metadata": {},
   "outputs": [],
   "source": []
  },
  {
   "cell_type": "code",
   "execution_count": null,
   "metadata": {},
   "outputs": [],
   "source": []
  }
 ],
 "metadata": {
  "kernelspec": {
   "display_name": "Python 3",
   "language": "python",
   "name": "python3"
  },
  "language_info": {
   "codemirror_mode": {
    "name": "ipython",
    "version": 3
   },
   "file_extension": ".py",
   "mimetype": "text/x-python",
   "name": "python",
   "nbconvert_exporter": "python",
   "pygments_lexer": "ipython3",
   "version": "3.6.1"
  }
 },
 "nbformat": 4,
 "nbformat_minor": 2
}
